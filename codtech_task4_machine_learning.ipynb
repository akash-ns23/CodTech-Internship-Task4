import pandas as pd
from sklearn.model_selection import train_test_split
from sklearn.feature_extraction.text import CountVectorizer
from sklearn.naive_bayes import MultinomialNB
from sklearn.metrics import accuracy_score, classification_report

# Sample spam/ham dataset
data = {
    'label': ['ham', 'spam', 'ham', 'ham', 'spam'],
    'message': [
        'Hello, how are you?',
        'Win money now!!!',
        'Let\'s catch up later.',
        'Are you available tomorrow?',
        'Congratulations! You have won a prize!'
    ]
}

# Load into DataFrame
df = pd.DataFrame(data)
df['label_num'] = df['label'].map({'ham': 0, 'spam': 1})

# Vectorize text messages
vectorizer = CountVectorizer()
X = vectorizer.fit_transform(df['message'])
y = df['label_num']

# Train-test split
X_train, X_test, y_train, y_test = train_test_split(X, y, test_size=0.3, random_state=42)

# Train Naive Bayes model
model = MultinomialNB()
model.fit(X_train, y_train)

# Make predictions
y_pred = model.predict(X_test)

# Output evaluation
print("\n--- Classification Report ---")
print(classification_report(y_test, y_pred))

print("Accuracy:", round(accuracy_score(y_test, y_pred) * 100, 2), "%")
